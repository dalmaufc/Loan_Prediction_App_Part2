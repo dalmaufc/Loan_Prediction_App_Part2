{
  "cells": [
    {
      "cell_type": "code",
      "execution_count": null,
      "id": "fa48c56a",
      "metadata": {},
      "outputs": [],
      "source": [
        "import pandas as pd\n",
        "import numpy as np\n",
        "import joblib\n",
        "from sklearn.ensemble import RandomForestClassifier\n",
        "from xgboost import XGBClassifier\n",
        "from sklearn.model_selection import train_test_split\n",
        "from sklearn.metrics import accuracy_score, classification_report\n",
        "\n",
        "\n",
        "\n"
      ]
    },
    {
      "cell_type": "code",
      "execution_count": null,
      "id": "d9a3197d",
      "metadata": {},
      "outputs": [],
      "source": [
        "# Load dataset\n",
        "train = pd.read_csv('train_ctrUa4K.csv')\n",
        "\n",
        "# Handle missing values\n",
        "train.fillna(train.median(numeric_only=True), inplace=True)\n",
        "train.fillna(train.mode().iloc[0], inplace=True)\n",
        "\n"
      ]
    },
    {
      "cell_type": "code",
      "execution_count": null,
      "id": "86b65644",
      "metadata": {},
      "outputs": [],
      "source": [
        "# Encode categorical variables\n",
        "train['Gender'] = train['Gender'].map({'Male': 0, 'Female': 1})\n",
        "train['Married'] = train['Married'].map({'No': 0, 'Yes': 1})\n",
        "train['Loan_Status'] = train['Loan_Status'].map({'N': 0, 'Y': 1})\n",
        "\n",
        "# Feature selection\n",
        "X = train[['Gender', 'Married', 'ApplicantIncome', 'LoanAmount', 'Credit_History']]\n",
        "y = train['Loan_Status']\n",
        "\n",
        "# Train-test split\n",
        "x_train, x_test, y_train, y_test = train_test_split(X, y, test_size=0.2, random_state=10)\n",
        "\n"
      ]
    },
    {
      "cell_type": "code",
      "execution_count": null,
      "id": "c20a867c",
      "metadata": {},
      "outputs": [],
      "source": [
        "# Train Random Forest model\n",
        "rf_model = RandomForestClassifier(n_estimators=200, max_depth=10, random_state=10)\n",
        "rf_model.fit(x_train, y_train)\n",
        "\n",
        "# Train XGBoost model\n",
        "xgb_model = XGBClassifier(n_estimators=200, max_depth=10, use_label_encoder=False, eval_metric='logloss', random_state=10)\n",
        "xgb_model.fit(x_train, y_train)\n",
        "\n"
      ]
    },
    {
      "cell_type": "code",
      "execution_count": null,
      "id": "3bc1ad58",
      "metadata": {},
      "outputs": [],
      "source": [
        "# Evaluate both models\n",
        "rf_pred = rf_model.predict(x_test)\n",
        "xgb_pred = xgb_model.predict(x_test)\n",
        "\n",
        "print(\"Random Forest Accuracy:\", accuracy_score(y_test, rf_pred))\n",
        "print(\"XGBoost Accuracy:\", accuracy_score(y_test, xgb_pred))\n",
        "\n"
      ]
    },
    {
      "cell_type": "code",
      "execution_count": null,
      "id": "64e165c0",
      "metadata": {},
      "outputs": [],
      "source": [
        "# Save models\n",
        "joblib.dump(rf_model, 'random_forest.pkl')\n",
        "joblib.dump(xgb_model, 'xgboost.pkl')\n",
        "\n",
        "print(\"Models saved successfully!\")"
      ]
    },
    {
      "cell_type": "code",
      "execution_count": null,
      "id": "bed636ea",
      "metadata": {},
      "outputs": [],
      "source": []
    },
    {
      "cell_type": "code",
      "execution_count": null,
      "id": "07729f4b",
      "metadata": {},
      "outputs": [],
      "source": []
    },
    {
      "cell_type": "code",
      "execution_count": null,
      "id": "d3edf0aa",
      "metadata": {},
      "outputs": [],
      "source": []
    },
    {
      "cell_type": "code",
      "execution_count": null,
      "id": "fe8b6692",
      "metadata": {},
      "outputs": [],
      "source": []
    },
    {
      "cell_type": "code",
      "execution_count": null,
      "id": "e593231c",
      "metadata": {},
      "outputs": [],
      "source": []
    },
    {
      "cell_type": "code",
      "execution_count": null,
      "id": "bea2b66b",
      "metadata": {},
      "outputs": [],
      "source": []
    },
    {
      "cell_type": "code",
      "execution_count": null,
      "id": "e0861ed4",
      "metadata": {},
      "outputs": [],
      "source": []
    },
    {
      "cell_type": "code",
      "execution_count": null,
      "id": "18b2477a",
      "metadata": {},
      "outputs": [],
      "source": []
    },
    {
      "cell_type": "code",
      "execution_count": null,
      "id": "77fe2e89",
      "metadata": {},
      "outputs": [],
      "source": []
    },
    {
      "cell_type": "code",
      "execution_count": null,
      "metadata": {},
      "outputs": [],
      "source": []
    }
  ],
  "metadata": {
    "colab": {
      "provenance": []
    },
    "kernelspec": {
      "display_name": "Python 3",
      "language": "python",
      "name": "python3"
    },
    "language_info": {
      "codemirror_mode": {
        "name": "ipython",
        "version": 3
      },
      "file_extension": ".py",
      "mimetype": "text/x-python",
      "name": "python",
      "nbconvert_exporter": "python",
      "pygments_lexer": "ipython3",
      "version": "3.9.6"
    }
  },
  "nbformat": 4,
  "nbformat_minor": 5
}
